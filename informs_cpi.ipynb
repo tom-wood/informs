{
 "cells": [
  {
   "cell_type": "code",
   "execution_count": 1,
   "metadata": {},
   "outputs": [],
   "source": [
    "import numpy as np\n",
    "from MS_data_functions import *\n",
    "import pandas as pd\n",
    "plt.rcParams['image.cmap'] = 'afmhot'\n",
    "#change to %matplotlib inline if you want the plots not in a separate window\n",
    "%matplotlib qt"
   ]
  },
  {
   "cell_type": "code",
   "execution_count": 2,
   "metadata": {
    "collapsed": true
   },
   "outputs": [],
   "source": [
    "#These are user variables [i.e. you should change them]\n",
    "fpath = 'C:/Users/vgx18551/Documents/Data/Metal_oxides/MS_files/180427_Polaris_CK_sample/180427_Polaris_CK_sample.csv'\n",
    "save_fpath = 'C:/Users/vgx18551/Documents/Data/Metal_oxides/MS_files/180427_Polaris_CK_sample/180427_Polaris_CK_sample_fitted.csv'"
   ]
  },
  {
   "cell_type": "code",
   "execution_count": 3,
   "metadata": {},
   "outputs": [],
   "source": [
    "#Reload MS data if it's already been fitted [you can then bypass the data extract and fitting code]\n",
    "# fits = np.loadtxt(save_fpath, delimiter=',')\n",
    "# fit_times, fit_params = fits[:, 0], fits[:, 1:]\n",
    "# labels = ['f$_{Ar}$', 'f$_{N_{2}}$', 'f$_{NH_{3}}$', 'f$_{H_{2}}$']"
   ]
  },
  {
   "cell_type": "code",
   "execution_count": 4,
   "metadata": {
    "collapsed": true
   },
   "outputs": [],
   "source": [
    "#Extract data and punt out times, amus, pressures and gas fraction arrays\n",
    "data = pd.read_csv(fpath, sep=',', header=29, usecols=[0, 2, 3, 4])\n",
    "times, amus, ps = extract_mshist_pd(data, sums=20)\n",
    "fracs = get_gasfracs(ps)"
   ]
  },
  {
   "cell_type": "code",
   "execution_count": 13,
   "metadata": {},
   "outputs": [],
   "source": [
    "#contourf(times, amus, fracs, color_num=50)\n",
    "#if you want to clip the z-data use:\n",
    "#contourf(times, amus, np.clip(fracs, 0, 0.5))\n",
    "#if you want to plot on a log scale:\n",
    "contourf(times, amus, np.log(np.clip(fracs, 1e-5, 1)), zlabel='log(Gas Fraction)')\n",
    "#if you want to plot on a square root scale:\n",
    "#contourf(times, amus, np.sqrt(np.clip(fracs, 1e-5, 1)), zlabel=r'$\\sqrt{Gas Fraction}$')\n",
    "#if you want to only plot between certain times:\n",
    "#t0, t1 = 10, 100 #in minutes\n",
    "#i0, i1 = [np.searchsorted(times[0], t) for t in [t0, t1]]\n",
    "#contourf(times[:, i0:i1], amus[:, i0:i1], fracs[:, i0:i1])"
   ]
  },
  {
   "cell_type": "code",
   "execution_count": null,
   "metadata": {},
   "outputs": [],
   "source": [
    "all_sfs.nd3_sfs"
   ]
  },
  {
   "cell_type": "code",
   "execution_count": 8,
   "metadata": {},
   "outputs": [],
   "source": [
    "###Here's an example of how to self calibrate for pure NH3 running between 1200 and 1240 minutes###\n",
    "###You must re-run the fit_MS_data() function afterwards in order to implement the changes###\n",
    "all_sfs.self_calibrate('Ar', times, amus, fracs, x_range=[327, 386])\n",
    "###If you ever want to go back to the initial values, then use the following:###\n",
    "#all_sfs.reset()"
   ]
  },
  {
   "cell_type": "code",
   "execution_count": 11,
   "metadata": {},
   "outputs": [],
   "source": [
    "#fit data here\n",
    "fit_times, fit_params = fit_deuterated_MS_data(times, fracs, time_range=None)\n",
    "labels = ['Ar', '$N_{2}$', '$ND_{3}$', '$D_{2}$']"
   ]
  },
  {
   "cell_type": "code",
   "execution_count": 14,
   "metadata": {
    "collapsed": true
   },
   "outputs": [],
   "source": [
    "#plot data here\n",
    "mspec_plot(fit_times, fit_params, labels)"
   ]
  },
  {
   "cell_type": "code",
   "execution_count": null,
   "metadata": {
    "collapsed": true
   },
   "outputs": [],
   "source": [
    "#save MS data here\n",
    "fits = np.column_stack((fit_times, fit_params))\n",
    "np.savetxt(save_fpath, fits, delimiter=',')"
   ]
  }
 ],
 "metadata": {
  "kernelspec": {
   "display_name": "Python 3",
   "language": "python",
   "name": "python3"
  },
  "language_info": {
   "codemirror_mode": {
    "name": "ipython",
    "version": 3
   },
   "file_extension": ".py",
   "mimetype": "text/x-python",
   "name": "python",
   "nbconvert_exporter": "python",
   "pygments_lexer": "ipython3",
   "version": "3.7.1"
  }
 },
 "nbformat": 4,
 "nbformat_minor": 1
}
