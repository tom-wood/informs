{
 "cells": [
  {
   "cell_type": "code",
   "execution_count": null,
   "metadata": {},
   "outputs": [],
   "source": [
    "###version 0.2.3 added sigmoid fitting and plot_conv functions\n",
    "import numpy as np\n",
    "from MS_data_functions import *\n",
    "import pandas as pd\n",
    "plt.rcParams['image.cmap'] = 'afmhot'\n",
    "#change to %matplotlib inline if you want the plots not in a separate window\n",
    "%matplotlib qt"
   ]
  },
  {
   "cell_type": "code",
   "execution_count": null,
   "metadata": {},
   "outputs": [],
   "source": [
    "#These are user variables [i.e. you should change them]\n",
    "fpath = 'C:/Users/vgx18551/Documents/Data/Metal_oxides/MS_files/171110_TJW404_HF_R1_blank/171110_TJW404_HF_R1_blank.csv'\n",
    "save_fpath = 'C:/Users/vgx18551/Documents/Data/Metal_oxides/MS_files/171110_TJW404_HF_R1_blank/171110_TJW404_HF_R1_blank_fitted.csv'\n",
    "log_fpath = 'C:/Users/vgx18551/Documents/Data/Metal_oxides/MS_files/171110_TJW404_HF_R1_blank/171110_TJW404_HF_R1_blank.log'\n",
    "MFC1_offset = 0\n",
    "MFC2_offset = 0\n",
    "MFM_offset = 0"
   ]
  },
  {
   "cell_type": "code",
   "execution_count": null,
   "metadata": {},
   "outputs": [],
   "source": [
    "#Reload MS data if it's already been fitted [you can then bypass the data extract and fitting code]\n",
    "# fits = np.loadtxt(save_fpath, delimiter=',')\n",
    "# fit_times, fit_params, T_ms = fits[:, 0], fits[:, 1:-1], fits[:, -1]\n",
    "# labels = ['f$_{Ar}$', 'f$_{N_{2}}$', 'f$_{NH_{3}}$', 'f$_{H_{2}}$']"
   ]
  },
  {
   "cell_type": "code",
   "execution_count": null,
   "metadata": {},
   "outputs": [],
   "source": [
    "#Extract data and punt out times, amus, pressures and gas fraction arrays\n",
    "data = pd.read_csv(fpath, sep=',', header=29, usecols=[0, 2, 3, 4])\n",
    "times, amus, ps = extract_mshist_pd(data, sums=20)\n",
    "fracs = get_gasfracs(ps)"
   ]
  },
  {
   "cell_type": "code",
   "execution_count": null,
   "metadata": {},
   "outputs": [],
   "source": [
    "contourf(times, amus, fracs, color_num=50)\n",
    "#if you want to clip the z-data use:\n",
    "#contourf(times, amus, np.clip(fracs, 0, 0.5))\n",
    "#if you want to plot on a log scale:\n",
    "contourf(times, amus, np.log(np.clip(fracs, 1e-5, 1)), zlabel='log(Gas Fraction)')\n",
    "#if you want to plot on a square root scale:\n",
    "#contourf(times, amus, np.sqrt(np.clip(fracs, 1e-5, 1)), zlabel=r'$\\sqrt{Gas Fraction}$')\n",
    "#if you want to only plot between certain times:\n",
    "#t0, t1 = 10, 100 #in minutes\n",
    "#i0, i1 = [np.searchsorted(times[0], t) for t in [t0, t1]]\n",
    "#contourf(times[:, i0:i1], amus[:, i0:i1], fracs[:, i0:i1])"
   ]
  },
  {
   "cell_type": "code",
   "execution_count": null,
   "metadata": {},
   "outputs": [],
   "source": [
    "###Here's an example of how to self calibrate for pure NH3 running between 1200 and 1240 minutes###\n",
    "###You must re-run the fit_MS_data() function afterwards in order to implement the changes###\n",
    "all_sfs.self_calibrate('NH3', times, amus, fracs, x_range=[1200, 1240])\n",
    "###If you ever want to go back to the initial values, then use the following:###\n",
    "#all_sfs.reset()"
   ]
  },
  {
   "cell_type": "code",
   "execution_count": null,
   "metadata": {},
   "outputs": [],
   "source": [
    "#fit data here\n",
    "fit_times, fit_params = fit_MS_data(times, fracs, time_range=None)\n",
    "labels = ['{Ar', '$N_{2}$', '$NH_{3}$', '$H_{2}$']"
   ]
  },
  {
   "cell_type": "code",
   "execution_count": null,
   "metadata": {},
   "outputs": [],
   "source": [
    "#plot data here\n",
    "mspec_plot(fit_times, fit_params, labels)"
   ]
  },
  {
   "cell_type": "code",
   "execution_count": null,
   "metadata": {},
   "outputs": [],
   "source": [
    "#Sometimes it is useful to calibrate the H2 ionization factor given a known ratio of H2 to N2 \n",
    "#(iterate over the following until the correct ratio is reached [usually 3.0])\n",
    "# fit_times, fit_params = fit_MS_data(times, fracs, time_range=None)\n",
    "# labels = ['{Ar', '$N_{2}$', '$NH_{3}$', '$H_{2}$']\n",
    "mspec_plot(fit_times, fit_params[:, -1] / fit_params[:, 1], '', legend=False, ylim_bottom=1.5, ylim_top=4.5)\n",
    "I_factors.reset()\n",
    "I_factors.I_h2 /= 1.0"
   ]
  },
  {
   "cell_type": "code",
   "execution_count": null,
   "metadata": {},
   "outputs": [],
   "source": [
    "#load log data (print log_data[0] for the column names, and log_data = log_data.values to\n",
    "#get numpy array of log_data\n",
    "log_data = get_log_data(log_fpath)\n",
    "#now get the temperatures in same array shape as the MS data\n",
    "T_ms = get_T_ms(log_data, fit_times)"
   ]
  },
  {
   "cell_type": "code",
   "execution_count": null,
   "metadata": {},
   "outputs": [],
   "source": [
    "#plot MS data versus temperature\n",
    "mspec_plot(T_ms, fit_params, labels, xlabel=u'Temperature / \\u00B0C')"
   ]
  },
  {
   "cell_type": "code",
   "execution_count": null,
   "metadata": {},
   "outputs": [],
   "source": [
    "#save MS data here\n",
    "fits = np.column_stack((fit_times, fit_params, T_ms))\n",
    "np.savetxt(save_fpath, fits, delimiter=',')"
   ]
  },
  {
   "cell_type": "code",
   "execution_count": null,
   "metadata": {},
   "outputs": [],
   "source": [
    "#Calculate conversion sigmoid and plot here\n",
    "sT, conv1, c1u, conv2, c2u = get_sigmoid_data(log_data, fit_times, fit_params)\n",
    "#fitting to single Gompertz sigmoid curve\n",
    "Tfit = np.linspace(sT[0], sT[-1], 1000) + 273.15\n",
    "p, cov, unc_fit, Cfit = fit_single_Te(sT + 273.15, 1 - (1 - conv1) / (1 + conv1), [700, 120], Tfit)\n",
    "if cov is not None:\n",
    "    corr = cov2corr(cov)\n",
    "##double Gompertz function (a la Bill)\n",
    "pf, covf, unc_fitf, Cfitf = fit_Te_fadd(sT + 273.15, 1 - (1 - conv1) / (1 + conv1), [700, 180, 750, 80, 0.8], Tfit)\n",
    "if covf is not None:\n",
    "    corrf = cov2corr(covf)\n"
   ]
  },
  {
   "cell_type": "code",
   "execution_count": null,
   "metadata": {},
   "outputs": [],
   "source": [
    "plot_conv(sT, conv1, Tfit, [Cfit, Cfitf])"
   ]
  },
  {
   "cell_type": "markdown",
   "metadata": {
    "collapsed": true
   },
   "source": [
    "Save conversions and sigmoid fits as follows:"
   ]
  },
  {
   "cell_type": "code",
   "execution_count": null,
   "metadata": {},
   "outputs": [],
   "source": [
    "convs_fpath = 'C:/Users/vgx18551/Documents/Data/Metal_oxides/MS_files/171110_TJW404_HF_R1_blank/convs.txt'\n",
    "sigfit_fpath'C:/Users/vgx18551/Documents/Data/Metal_oxides/MS_files/171110_TJW404_HF_R1_blank/sigfit.txt'\n",
    "convs = np.column_stack((sT, conv1))\n",
    "sigfit = np.column_stack((Tfit, Cfitf)) #or Cfit if that's the better fit\n",
    "np.savetxt(convs_fpath, convs)\n",
    "np.savetxt(sigfit_fpath, sigfit)"
   ]
  }
 ],
 "metadata": {
  "kernelspec": {
   "display_name": "Python 3",
   "language": "python",
   "name": "python3"
  },
  "language_info": {
   "codemirror_mode": {
    "name": "ipython",
    "version": 3
   },
   "file_extension": ".py",
   "mimetype": "text/x-python",
   "name": "python",
   "nbconvert_exporter": "python",
   "pygments_lexer": "ipython3",
   "version": "3.7.1"
  }
 },
 "nbformat": 4,
 "nbformat_minor": 1
}
