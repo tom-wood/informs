{
 "cells": [
  {
   "cell_type": "code",
   "execution_count": 1,
   "metadata": {
    "collapsed": false
   },
   "outputs": [
    {
     "ename": "TypeError",
     "evalue": "unsupported operand type(s) for *: 'int' and 'NoneType'",
     "output_type": "error",
     "traceback": [
      "\u001b[0;31m---------------------------------------------------------------------------\u001b[0m",
      "\u001b[0;31mTypeError\u001b[0m                                 Traceback (most recent call last)",
      "\u001b[0;32m<ipython-input-1-bffacdc13232>\u001b[0m in \u001b[0;36m<module>\u001b[0;34m()\u001b[0m\n\u001b[1;32m      1\u001b[0m \u001b[1;31m###version 0.2.1 reset allowed for I factors\u001b[0m\u001b[1;33m\u001b[0m\u001b[1;33m\u001b[0m\u001b[0m\n\u001b[1;32m      2\u001b[0m \u001b[1;32mimport\u001b[0m \u001b[0mnumpy\u001b[0m \u001b[1;32mas\u001b[0m \u001b[0mnp\u001b[0m\u001b[1;33m\u001b[0m\u001b[0m\n\u001b[0;32m----> 3\u001b[0;31m \u001b[1;32mfrom\u001b[0m \u001b[0mMS_data_functions\u001b[0m \u001b[1;32mimport\u001b[0m \u001b[1;33m*\u001b[0m\u001b[1;33m\u001b[0m\u001b[0m\n\u001b[0m\u001b[1;32m      4\u001b[0m \u001b[1;32mimport\u001b[0m \u001b[0mpandas\u001b[0m \u001b[1;32mas\u001b[0m \u001b[0mpd\u001b[0m\u001b[1;33m\u001b[0m\u001b[0m\n\u001b[1;32m      5\u001b[0m \u001b[0mplt\u001b[0m\u001b[1;33m.\u001b[0m\u001b[0mrcParams\u001b[0m\u001b[1;33m[\u001b[0m\u001b[1;34m'image.cmap'\u001b[0m\u001b[1;33m]\u001b[0m \u001b[1;33m=\u001b[0m \u001b[1;34m'afmhot'\u001b[0m\u001b[1;33m\u001b[0m\u001b[0m\n",
      "\u001b[0;32mC:\\Users\\vgx18551\\Documents\\Data\\Metal_oxides\\MS_files\\MS_data_functions.py\u001b[0m in \u001b[0;36m<module>\u001b[0;34m()\u001b[0m\n\u001b[1;32m     69\u001b[0m         \u001b[0mself\u001b[0m\u001b[1;33m.\u001b[0m\u001b[0mI_hd\u001b[0m \u001b[1;33m=\u001b[0m \u001b[1;33m(\u001b[0m\u001b[0mI_h2\u001b[0m \u001b[1;33m+\u001b[0m \u001b[0mI_d2\u001b[0m\u001b[1;33m)\u001b[0m \u001b[1;33m/\u001b[0m \u001b[1;36m2\u001b[0m\u001b[1;33m\u001b[0m\u001b[0m\n\u001b[1;32m     70\u001b[0m \u001b[1;33m\u001b[0m\u001b[0m\n\u001b[0;32m---> 71\u001b[0;31m \u001b[0mI_factors\u001b[0m \u001b[1;33m=\u001b[0m \u001b[0mIonizationFactors\u001b[0m\u001b[1;33m(\u001b[0m\u001b[1;33m)\u001b[0m\u001b[1;33m\u001b[0m\u001b[0m\n\u001b[0m\u001b[1;32m     72\u001b[0m \u001b[1;33m\u001b[0m\u001b[0m\n\u001b[1;32m     73\u001b[0m \u001b[1;31m#coefficients at 100% single gas purity first\u001b[0m\u001b[1;33m\u001b[0m\u001b[1;33m\u001b[0m\u001b[0m\n",
      "\u001b[0;32mC:\\Users\\vgx18551\\Documents\\Data\\Metal_oxides\\MS_files\\MS_data_functions.py\u001b[0m in \u001b[0;36m__init__\u001b[0;34m(self, I_ar, I_nh3, I_nd3, I_h2, I_d2, I_n2)\u001b[0m\n\u001b[1;32m     37\u001b[0m     def __init__(self, I_ar=None, I_nh3=None, I_nd3=None, I_h2=None, I_d2=None,\n\u001b[1;32m     38\u001b[0m                  I_n2=None):\n\u001b[0;32m---> 39\u001b[0;31m         \u001b[0mself\u001b[0m\u001b[1;33m.\u001b[0m\u001b[0mreset\u001b[0m\u001b[1;33m(\u001b[0m\u001b[0mI_ar\u001b[0m\u001b[1;33m,\u001b[0m \u001b[0mI_nh3\u001b[0m\u001b[1;33m,\u001b[0m \u001b[0mI_nd3\u001b[0m\u001b[1;33m,\u001b[0m \u001b[0mI_h2\u001b[0m\u001b[1;33m,\u001b[0m \u001b[0mI_d2\u001b[0m\u001b[1;33m,\u001b[0m \u001b[0mI_n2\u001b[0m\u001b[1;33m)\u001b[0m\u001b[1;33m\u001b[0m\u001b[0m\n\u001b[0m\u001b[1;32m     40\u001b[0m \u001b[1;33m\u001b[0m\u001b[0m\n\u001b[1;32m     41\u001b[0m     def reset(self, I_ar=None, I_nh3=None, I_nd3=None, I_h2=None, I_d2=None,\n",
      "\u001b[0;32mC:\\Users\\vgx18551\\Documents\\Data\\Metal_oxides\\MS_files\\MS_data_functions.py\u001b[0m in \u001b[0;36mreset\u001b[0;34m(self, I_ar, I_nh3, I_nd3, I_h2, I_d2, I_n2)\u001b[0m\n\u001b[1;32m     65\u001b[0m         \u001b[1;32melse\u001b[0m\u001b[1;33m:\u001b[0m\u001b[1;33m\u001b[0m\u001b[0m\n\u001b[1;32m     66\u001b[0m             \u001b[0mself\u001b[0m\u001b[1;33m.\u001b[0m\u001b[0mI_n2\u001b[0m \u001b[1;33m=\u001b[0m \u001b[0mI_n2\u001b[0m\u001b[1;33m\u001b[0m\u001b[0m\n\u001b[0;32m---> 67\u001b[0;31m         \u001b[0mself\u001b[0m\u001b[1;33m.\u001b[0m\u001b[0mI_ndh2\u001b[0m \u001b[1;33m=\u001b[0m \u001b[1;33m(\u001b[0m\u001b[1;36m2\u001b[0m \u001b[1;33m*\u001b[0m \u001b[0mI_nh3\u001b[0m \u001b[1;33m+\u001b[0m \u001b[0mI_nd3\u001b[0m\u001b[1;33m)\u001b[0m \u001b[1;33m/\u001b[0m \u001b[1;36m3\u001b[0m\u001b[1;33m\u001b[0m\u001b[0m\n\u001b[0m\u001b[1;32m     68\u001b[0m         \u001b[0mself\u001b[0m\u001b[1;33m.\u001b[0m\u001b[0mI_nd2h\u001b[0m \u001b[1;33m=\u001b[0m \u001b[1;33m(\u001b[0m\u001b[0mI_nh3\u001b[0m \u001b[1;33m+\u001b[0m \u001b[1;36m2\u001b[0m \u001b[1;33m*\u001b[0m \u001b[0mI_nd3\u001b[0m\u001b[1;33m)\u001b[0m \u001b[1;33m/\u001b[0m \u001b[1;36m3\u001b[0m\u001b[1;33m\u001b[0m\u001b[0m\n\u001b[1;32m     69\u001b[0m         \u001b[0mself\u001b[0m\u001b[1;33m.\u001b[0m\u001b[0mI_hd\u001b[0m \u001b[1;33m=\u001b[0m \u001b[1;33m(\u001b[0m\u001b[0mI_h2\u001b[0m \u001b[1;33m+\u001b[0m \u001b[0mI_d2\u001b[0m\u001b[1;33m)\u001b[0m \u001b[1;33m/\u001b[0m \u001b[1;36m2\u001b[0m\u001b[1;33m\u001b[0m\u001b[0m\n",
      "\u001b[0;31mTypeError\u001b[0m: unsupported operand type(s) for *: 'int' and 'NoneType'"
     ]
    }
   ],
   "source": [
    "###version 0.2.1 reset allowed for I factors\n",
    "import numpy as np\n",
    "from MS_data_functions import *\n",
    "import pandas as pd\n",
    "plt.rcParams['image.cmap'] = 'afmhot'\n",
    "#change to %matplotlib inline if you want the plots not in a separate window\n",
    "%matplotlib qt"
   ]
  },
  {
   "cell_type": "code",
   "execution_count": 2,
   "metadata": {
    "collapsed": true
   },
   "outputs": [],
   "source": [
    "#These are user variables [i.e. you should change them]\n",
    "fpath = r'C:\\Users\\vgx18551\\Documents\\Data\\Metal_oxides\\MS_files\\161007_SA01_LiNH2MnO2\\161007_LiNH2MnO2_original.csv'\n",
    "save_fpath = r'C:\\Users\\vgx18551\\Documents\\Data\\Metal_oxides\\MS_files\\161007_SA01_LiNH2MnO2\\161007_LiNH2MnO2_fitted.csv'\n",
    "log_fpath = r'C:\\Users\\vgx18551\\Documents\\Data\\Metal_oxides\\MS_files\\161007_SA01_LiNH2MnO2\\161007_LiNH2MnO2.log'\n",
    "MFC1_offset = 0\n",
    "MFC2_offset = 0\n",
    "MFM_offset = 0"
   ]
  },
  {
   "cell_type": "code",
   "execution_count": 3,
   "metadata": {
    "collapsed": false
   },
   "outputs": [],
   "source": [
    "#Reload MS data if it's already been fitted [you can then bypass the data extract and fitting code]\n",
    "#fits = np.loadtxt(save_fpath, delimiter=',')\n",
    "#fit_times, fit_params, T_ms = fits[:, 0], fits[:, 1:-1], fits[:, -1]\n",
    "#labels = ['f$_{Ar}$', 'f$_{N_{2}}$', 'f$_{NH_{3}}$', 'f$_{H_{2}}$']"
   ]
  },
  {
   "cell_type": "code",
   "execution_count": 4,
   "metadata": {
    "collapsed": true
   },
   "outputs": [],
   "source": [
    "#Extract data and punt out times, amus, pressures and gas fraction arrays\n",
    "data = pd.read_csv(fpath, sep=',', header=29, usecols=[0, 2, 3, 4])\n",
    "times, amus, ps = extract_mshist_pd(data, sums=20)\n",
    "fracs = get_gasfracs(ps)"
   ]
  },
  {
   "cell_type": "code",
   "execution_count": 5,
   "metadata": {
    "collapsed": true
   },
   "outputs": [],
   "source": [
    "contourf(times, amus, fracs, color_num=50)\n",
    "#if you want to clip the z-data use:\n",
    "#contourf(times, amus, np.clip(fracs, 0, 0.5))\n",
    "#if you want to plot on a log scale:\n",
    "contourf(times, amus, np.log(np.clip(fracs, 1e-5, 1)), zlabel='log(Gas Fraction)')\n",
    "#if you want to plot on a square root scale:\n",
    "#contourf(times, amus, np.sqrt(np.clip(fracs, 1e-5, 1)), zlabel=r'$\\sqrt{Gas Fraction}$')\n",
    "#if you want to only plot between certain times:\n",
    "#t0, t1 = 10, 100 #in minutes\n",
    "#i0, i1 = [np.searchsorted(times[0], t) for t in [t0, t1]]\n",
    "#contourf(times[:, i0:i1], amus[:, i0:i1], fracs[:, i0:i1])"
   ]
  },
  {
   "cell_type": "code",
   "execution_count": 6,
   "metadata": {
    "collapsed": false
   },
   "outputs": [],
   "source": [
    "###Here's an example of how to self calibrate for pure NH3 running between 1200 and 1240 minutes###\n",
    "###You must re-run the fit_MS_data() function afterwards in order to implement the changes###\n",
    "all_sfs.self_calibrate('NH3', times, amus, fracs, x_range=[1200, 1240])\n",
    "###If you ever want to go back to the initial values, then use the following:###\n",
    "#all_sfs.reset()"
   ]
  },
  {
   "cell_type": "code",
   "execution_count": 7,
   "metadata": {
    "collapsed": false
   },
   "outputs": [],
   "source": [
    "#fit data here\n",
    "fit_times, fit_params = fit_MS_data(times, fracs, time_range=None)\n",
    "labels = ['f$_{Ar}$', 'f$_{N_{2}}$', 'f$_{NH_{3}}$', 'f$_{H_{2}}$']"
   ]
  },
  {
   "cell_type": "code",
   "execution_count": 16,
   "metadata": {
    "collapsed": true
   },
   "outputs": [],
   "source": [
    "#plot data here\n",
    "mspec_plot(fit_times, fit_params, labels)"
   ]
  },
  {
   "cell_type": "code",
   "execution_count": 8,
   "metadata": {
    "collapsed": false
   },
   "outputs": [],
   "source": [
    "#load log data (print log_data[0] for the column names, and log_data = log_data.values to\n",
    "#get numpy array of log_data\n",
    "log_data = get_log_data(log_fpath)\n",
    "#now get the temperatures in same array shape as the MS data\n",
    "T_ms = get_T_ms(log_data, fit_times)"
   ]
  },
  {
   "cell_type": "code",
   "execution_count": 9,
   "metadata": {
    "collapsed": true
   },
   "outputs": [],
   "source": [
    "#plot MS data versus temperature\n",
    "mspec_plot(T_ms, fit_params, labels)"
   ]
  },
  {
   "cell_type": "code",
   "execution_count": 12,
   "metadata": {
    "collapsed": true
   },
   "outputs": [],
   "source": [
    "#save MS data here\n",
    "fits = np.column_stack((fit_times, fit_params, T_ms))\n",
    "np.savetxt(save_fpath, fits, delimiter=',')"
   ]
  },
  {
   "cell_type": "code",
   "execution_count": null,
   "metadata": {
    "collapsed": true
   },
   "outputs": [],
   "source": []
  }
 ],
 "metadata": {
  "kernelspec": {
   "display_name": "Python 2",
   "language": "python",
   "name": "python2"
  },
  "language_info": {
   "codemirror_mode": {
    "name": "ipython",
    "version": 2
   },
   "file_extension": ".py",
   "mimetype": "text/x-python",
   "name": "python",
   "nbconvert_exporter": "python",
   "pygments_lexer": "ipython2",
   "version": "2.7.10"
  }
 },
 "nbformat": 4,
 "nbformat_minor": 0
}
